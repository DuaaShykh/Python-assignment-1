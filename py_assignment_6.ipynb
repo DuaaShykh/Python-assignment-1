{
 "cells": [
  {
   "cell_type": "markdown",
   "metadata": {},
   "source": [
    "# Ans 1\n"
   ]
  },
  {
   "cell_type": "markdown",
   "metadata": {},
   "source": [
    "# OPP:"
   ]
  },
  {
   "cell_type": "markdown",
   "metadata": {},
   "source": [
    "Object-oriented programming is a programming paradigm based on the concept of \"objects\", which can contain data, in the form of fields, and code, in the form of procedures. A feature of objects is an object's procedures that can access and often modify the data fields of the object with which they are associated."
   ]
  },
  {
   "cell_type": "markdown",
   "metadata": {},
   "source": [
    "# Ans 2"
   ]
  },
  {
   "cell_type": "markdown",
   "metadata": {},
   "source": [
    "# BENEFIT OF OOP"
   ]
  },
  {
   "cell_type": "markdown",
   "metadata": {},
   "source": [
    "1.Modularity for easier troubleshooting. Something has gone wrong, and you have no idea where to look.   \n",
    "\n",
    "2.Reuse of code through inheritance. \n",
    "\n",
    "3.Flexibility through polymorphism. \n",
    "\n",
    "4.Effective problem solving."
   ]
  },
  {
   "cell_type": "markdown",
   "metadata": {},
   "source": [
    "# Ans 3"
   ]
  },
  {
   "cell_type": "markdown",
   "metadata": {},
   "source": [
    "# FUNCTION AND METHOD"
   ]
  },
  {
   "cell_type": "markdown",
   "metadata": {},
   "source": [
    "# Function:"
   ]
  },
  {
   "cell_type": "markdown",
   "metadata": {},
   "source": [
    "1.Function is block of code that is also called by its name. (independent)\n",
    "\n",
    "2.The function can have different parameters or may not have any at all. If any data (parameters) are passed, they are passed explicitly.\n",
    "\n",
    "3.It may or may not return any data.\n",
    "\n",
    "4.Function does not deal with Class and its instance concept."
   ]
  },
  {
   "cell_type": "markdown",
   "metadata": {},
   "source": [
    "# Method:"
   ]
  },
  {
   "cell_type": "markdown",
   "metadata": {},
   "source": [
    "1.Method is called by its name, but it is associated to an object (dependent).\n",
    "\n",
    "2.A method is implicitly passed the object on which it is invoked.\n",
    "\n",
    "3.It may or may not return any data.\n",
    "\n",
    "4.A method can operate on the data (instance variables) that is contained by the corresponding class."
   ]
  },
  {
   "cell_type": "markdown",
   "metadata": {},
   "source": [
    "# Ans 4"
   ]
  },
  {
   "cell_type": "markdown",
   "metadata": {},
   "source": [
    "# CLASS:"
   ]
  },
  {
   "cell_type": "markdown",
   "metadata": {},
   "source": [
    "Classes(OOP) In Object-Oriented Programming, a Class Is a Blueprint For Creating Objects(a Paricular Data Structure), Providing Intial Values For State (Member Variables Or Attributes), And Implemnetations Of Behavior (Member Functions Or Methods).The User-Defined Objects Are Created Using The Class Keyword.\n"
   ]
  },
  {
   "cell_type": "markdown",
   "metadata": {},
   "source": [
    "# OBJECT:"
   ]
  },
  {
   "cell_type": "markdown",
   "metadata": {},
   "source": [
    "An Object, In Object-Oriented Programming(OOP),Is An Abstract Data Type Created By A Developer. It Can Include Multiple Properties And methods And May Even Contain Other Objects.In Most Programming Language Objects Are Defined As Classes."
   ]
  },
  {
   "cell_type": "markdown",
   "metadata": {},
   "source": [
    "# ATTRIBUTES:"
   ]
  },
  {
   "cell_type": "markdown",
   "metadata": {},
   "source": [
    "An Attribute Is A Specification That Defines A Property Of An Object, Elemnet, Or File. It May Also Refer To Or Set The Specific Value For A Given Instance Of Such.For Clarity. Attributes Should More Correctly Be Considered Metadata."
   ]
  },
  {
   "cell_type": "markdown",
   "metadata": {},
   "source": [
    "# BEHAVIOUR:"
   ]
  },
  {
   "cell_type": "markdown",
   "metadata": {},
   "source": [
    "A Class's Behavior Determines How An Instance Of That Class Operates; For Example, How It Will \"React\" If Asked To Do Something By Another CLass Or Object Or if Its Internal State Changes. Behavior Is The Only Way Objects Can Do Anything Done TO Them."
   ]
  },
  {
   "cell_type": "code",
   "execution_count": 3,
   "metadata": {},
   "outputs": [
    {
     "name": "stdout",
     "output_type": "stream",
     "text": [
      "\n",
      "Car Name : Corolla\n",
      "\n",
      "Car Model : 2019\n",
      "\n",
      "Car Color : White\n",
      "\n",
      "Car Milage : 28 mpg in the city\n",
      "\n",
      "Car Price : Rs.3,699,000\n"
     ]
    }
   ],
   "source": [
    "#Ans#5\n",
    "\n",
    "class car():\n",
    "    def __init__(self,name,model,color,mileage,price):\n",
    "        self.name = name\n",
    "        self.model = model\n",
    "        self.color = color\n",
    "        self.mileage = mileage\n",
    "        self.price =  price\n",
    "        \n",
    "cars = car('Corolla','2019','White','28 mpg in the city','Rs.3,699,000')\n",
    "print('\\nCar Name :',cars.name)\n",
    "print('\\nCar Model :',cars.model)\n",
    "print('\\nCar Color :',cars.color)\n",
    "print('\\nCar Milage :',cars.mileage)\n",
    "print('\\nCar Price :',cars.price)"
   ]
  },
  {
   "cell_type": "code",
   "execution_count": null,
   "metadata": {},
   "outputs": [],
   "source": []
  }
 ],
 "metadata": {
  "kernelspec": {
   "display_name": "Python 3",
   "language": "python",
   "name": "python3"
  },
  "language_info": {
   "codemirror_mode": {
    "name": "ipython",
    "version": 3
   },
   "file_extension": ".py",
   "mimetype": "text/x-python",
   "name": "python",
   "nbconvert_exporter": "python",
   "pygments_lexer": "ipython3",
   "version": "3.7.4"
  }
 },
 "nbformat": 4,
 "nbformat_minor": 2
}
