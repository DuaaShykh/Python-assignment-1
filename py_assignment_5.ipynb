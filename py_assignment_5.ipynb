{
 "cells": [
  {
   "cell_type": "code",
   "execution_count": 1,
   "metadata": {},
   "outputs": [
    {
     "name": "stdout",
     "output_type": "stream",
     "text": [
      "Input a number to compute the factiorial : 5\n",
      "The factorial of a given number is:  120\n"
     ]
    }
   ],
   "source": [
    "def factorial(n):\n",
    "    if n == 0:\n",
    "        return 1\n",
    "    else:\n",
    "        return n * factorial(n-1)\n",
    "n=int(input(\"Input a number to compute the factiorial : \"))\n",
    "print(\"The factorial of a given number is: \",factorial(n))"
   ]
  },
  {
   "cell_type": "code",
   "execution_count": 29,
   "metadata": {},
   "outputs": [
    {
     "name": "stdout",
     "output_type": "stream",
     "text": [
      "Enter string:Duaa Shaikh\n",
      "The number of lowercase characters is: 8\n",
      "The number of uppercase characters is: 2\n"
     ]
    }
   ],
   "source": [
    "string=input(\"Enter string:\")\n",
    "count1=0\n",
    "count2=0\n",
    "for i in string:\n",
    "      if(i.islower()):\n",
    "            count1=count1+1\n",
    "        elif(i.isupper()):\n",
    "            count2=count2+1\n",
    "print(\"The number of lowercase characters is:\", count1)\n",
    "print(\"The number of uppercase characters is:\", count2)\n",
    "\n"
   ]
  },
  {
   "cell_type": "code",
   "execution_count": 22,
   "metadata": {},
   "outputs": [
    {
     "name": "stdout",
     "output_type": "stream",
     "text": [
      "[2, 8, 6, 78]\n"
     ]
    }
   ],
   "source": [
    "def even_num(l):\n",
    "    num = []\n",
    "    for n in l:\n",
    "        if n % 2 == 0:\n",
    "            num.append(n)\n",
    "    return num\n",
    "print(even_num([1, 2, 77, 8, 45, 6, 7, 78, 9]))"
   ]
  },
  {
   "cell_type": "code",
   "execution_count": 24,
   "metadata": {},
   "outputs": [
    {
     "name": "stdout",
     "output_type": "stream",
     "text": [
      "True\n"
     ]
    }
   ],
   "source": [
    "def isPalindrome(string):\n",
    "    left_pos = 0\n",
    "    right_pos = len(string) - 1\n",
    "\n",
    "    while right_pos >= left_pos:\n",
    "        if not string[left_pos] == string[right_pos]:\n",
    "            return False\n",
    "        left_pos += 1\n",
    "        right_pos -= 1\n",
    "        return True\n",
    "print(isPalindrome('aza'))"
   ]
  },
  {
   "cell_type": "code",
   "execution_count": 25,
   "metadata": {},
   "outputs": [
    {
     "name": "stdout",
     "output_type": "stream",
     "text": [
      "False\n"
     ]
    }
   ],
   "source": [
    "def test_prime(n):\n",
    "    if (n==1):\n",
    "        return False\n",
    "    elif (n==2):\n",
    "        return True;\n",
    "    else:\n",
    "        for x in range(2,n):\n",
    "            if(n % x==0):\n",
    "                return False\n",
    "        return True             \n",
    "print(test_prime(10))"
   ]
  },
  {
   "cell_type": "code",
   "execution_count": 32,
   "metadata": {},
   "outputs": [
    {
     "name": "stdout",
     "output_type": "stream",
     "text": [
      "Enter your budget : 300\n",
      "1.ADD\n",
      "2.EXIT\n",
      "Enter your choice : 1\n",
      "Enter product name : sugur\n",
      "Enter quantity : 1kg\n",
      "Enter price of the product : 100\n",
      "\n",
      "amount left 200.0\n",
      "1.ADD\n",
      "2.EXIT\n",
      "Enter your choice : 1\n",
      "Enter product name : wheat\n",
      "Enter quantity : 1kg\n",
      "Enter price of the product : 100\n",
      "\n",
      "amount left 100.0\n",
      "1.ADD\n",
      "2.EXIT\n",
      "Enter your choice : 1\n",
      "Enter product name : potatos\n",
      "Enter quantity : 1kg\n",
      "Enter price of the product : 60\n",
      "\n",
      "amount left 40.0\n",
      "1.ADD\n",
      "2.EXIT\n",
      "Enter your choice : 2\n",
      "\n",
      "Amount left : Rs. 40.0\n",
      "\n",
      "\n",
      "\n",
      "GROCERY LIST\n",
      "sugur 1kg 100.0\n",
      "wheat 1kg 100.0\n",
      "potatos 1kg 60.0\n"
     ]
    }
   ],
   "source": [
    " while True:  \n",
    "    try: \n",
    "        bg = float(input(\"Enter your budget : \"))  \n",
    "        s = bg  \n",
    "    except ValueError: \n",
    "        print(\"PRINT NUMBER AS A AMOUNT\") \n",
    "        continue\n",
    "    else: \n",
    "        break\n",
    "a ={\"name\":[], \"quant\":[], \"price\":[]} \n",
    "  \n",
    "b = list(a.values()) \n",
    "  \n",
    "na = b[0] \n",
    "   \n",
    "qu = b[1] \n",
    "  \n",
    "pr = b[2] \n",
    "  \n",
    "while True: \n",
    "    try: \n",
    "        ch = int(input(\"1.ADD\\n2.EXIT\\nEnter your choice : \")) \n",
    "    except ValueError: \n",
    "        print(\"\\nERROR: Choose only digits from the given option\") \n",
    "        continue\n",
    "    else: \n",
    "       \n",
    "        if ch == 1 and s>0:        \n",
    "                   \n",
    "            pn = input(\"Enter product name : \")  \n",
    "            q = input(\"Enter quantity : \") \n",
    "            p = float(input(\"Enter price of the product : \"))   \n",
    "  \n",
    "            if p>s:  \n",
    "                print(\"\\nCAN, T BUT THE PRODUCT\")  \n",
    "                continue\n",
    "  \n",
    "            else: \n",
    "                if pn in na:   \n",
    "                    ind = na.index(pn)   \n",
    "\n",
    "                    qu.remove(qu[ind])  \n",
    "  \n",
    "                    pr.remove(pr[ind])   \n",
    "   \n",
    "                    qu.insert(ind, q)    \n",
    "  \n",
    "                    pr.insert(ind, p)    \n",
    "  \n",
    "                    s = bg-sum(pr)    \n",
    "  \n",
    "                    print(\"\\namount left\", s) \n",
    "                else: \n",
    "                    na.append(pn)   \n",
    "   \n",
    "                    qu.append(q)    \n",
    "  \n",
    "                    pr.append(p)     \n",
    "  \n",
    "                    s = bg-sum(pr)    \n",
    "  \n",
    "                    print(\"\\namount left\", s) \n",
    "\n",
    "        elif s<= 0:  \n",
    "            print(\"\\nNO BUDGET\")  \n",
    "        else: \n",
    "            break \n",
    "\n",
    "print(\"\\nAmount left : Rs.\", s)  \n",
    "  \n",
    "if s in pr:  \n",
    "    print(\"\\nAmount left can buy you a\", na[pr.index(s)])   \n",
    "  \n",
    " print(\"\\n\\n\\nGROCERY LIST\") \n",
    "  \n",
    " for i in range(len(na)):  \n",
    "    print(na[i], qu[i], pr[i]) \n"
   ]
  },
  {
   "cell_type": "code",
   "execution_count": null,
   "metadata": {},
   "outputs": [],
   "source": []
  }
 ],
 "metadata": {
  "kernelspec": {
   "display_name": "Python 3",
   "language": "python",
   "name": "python3"
  },
  "language_info": {
   "codemirror_mode": {
    "name": "ipython",
    "version": 3
   },
   "file_extension": ".py",
   "mimetype": "text/x-python",
   "name": "python",
   "nbconvert_exporter": "python",
   "pygments_lexer": "ipython3",
   "version": "3.7.4"
  }
 },
 "nbformat": 4,
 "nbformat_minor": 2
}
