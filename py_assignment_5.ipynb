{
 "cells": [
  {
   "cell_type": "code",
   "execution_count": 1,
   "metadata": {},
   "outputs": [
    {
     "name": "stdout",
     "output_type": "stream",
     "text": [
      "Input a number to compute the factiorial : 5\n",
      "The factorial of a given number is:  120\n"
     ]
    }
   ],
   "source": [
    "def factorial(n):\n",
    "    if n == 0:\n",
    "        return 1\n",
    "    else:\n",
    "        return n * factorial(n-1)\n",
    "n=int(input(\"Input a number to compute the factiorial : \"))\n",
    "print(\"The factorial of a given number is: \",factorial(n))"
   ]
  },
  {
   "cell_type": "code",
   "execution_count": 29,
   "metadata": {},
   "outputs": [
    {
     "name": "stdout",
     "output_type": "stream",
     "text": [
      "Enter string:Duaa Shaikh\n",
      "The number of lowercase characters is: 8\n",
      "The number of uppercase characters is: 2\n"
     ]
    }
   ],
   "source": [
    "string=input(\"Enter string:\")\n",
    "count1=0\n",
    "count2=0\n",
    "for i in string:\n",
    "      if(i.islower()):\n",
    "            count1=count1+1\n",
    "        elif(i.isupper()):\n",
    "            count2=count2+1\n",
    "print(\"The number of lowercase characters is:\", count1)\n",
    "print(\"The number of uppercase characters is:\", count2)\n",
    "\n"
   ]
  },
  {
   "cell_type": "code",
   "execution_count": 22,
   "metadata": {},
   "outputs": [
    {
     "name": "stdout",
     "output_type": "stream",
     "text": [
      "[2, 8, 6, 78]\n"
     ]
    }
   ],
   "source": [
    "def even_num(l):\n",
    "    num = []\n",
    "    for n in l:\n",
    "        if n % 2 == 0:\n",
    "            num.append(n)\n",
    "    return num\n",
    "print(even_num([1, 2, 77, 8, 45, 6, 7, 78, 9]))"
   ]
  },
  {
   "cell_type": "code",
   "execution_count": 24,
   "metadata": {},
   "outputs": [
    {
     "name": "stdout",
     "output_type": "stream",
     "text": [
      "True\n"
     ]
    }
   ],
   "source": [
    "def isPalindrome(string):\n",
    "    left_pos = 0\n",
    "    right_pos = len(string) - 1\n",
    "\n",
    "    while right_pos >= left_pos:\n",
    "        if not string[left_pos] == string[right_pos]:\n",
    "            return False\n",
    "        left_pos += 1\n",
    "        right_pos -= 1\n",
    "        return True\n",
    "print(isPalindrome('aza'))"
   ]
  },
  {
   "cell_type": "code",
   "execution_count": 25,
   "metadata": {},
   "outputs": [
    {
     "name": "stdout",
     "output_type": "stream",
     "text": [
      "False\n"
     ]
    }
   ],
   "source": [
    "def test_prime(n):\n",
    "    if (n==1):\n",
    "        return False\n",
    "    elif (n==2):\n",
    "        return True;\n",
    "    else:\n",
    "        for x in range(2,n):\n",
    "            if(n % x==0):\n",
    "                return False\n",
    "        return True             \n",
    "print(test_prime(10))"
   ]
  },
  {
   "cell_type": "code",
   "execution_count": 34,
   "metadata": {},
   "outputs": [
    {
     "name": "stdout",
     "output_type": "stream",
     "text": [
      "Welocme To IMTIAZ MART\n",
      "\n",
      "--------------------\n",
      "  SHOPPING GROCERY  \n",
      "--------------------\n",
      " \n",
      "Serial No:003233\n",
      "\n",
      "$.30  Apple\n",
      "$.100  Milk\n",
      "$.67  Ice Cream \n",
      "$.80  Wheat\n",
      "$.60  Cold Drink\n",
      "You Bought These Items :\n",
      "\n",
      "Milk \n",
      "Banana\n",
      "Chocolate\n",
      "Dirnk\n",
      "Cookies\n",
      "\n",
      "Your  Total Amount Is:$.197\n",
      "\n",
      "                            THANKS FOR SHOPPING COME AGAIN\n"
     ]
    }
   ],
   "source": [
    " print('Welocme To IMTIAZ MART\\n')\n",
    "\n",
    "print(\"--------------------\\n  SHOPPING GROCERY  \\n--------------------\\n \")\n",
    "print('Serial No:003233\\n')\n",
    "print(\"$.30  Apple\")\n",
    "print('$.100  Milk')\n",
    "print('$.67  Ice Cream ')\n",
    "print('$.80  Wheat')\n",
    "print('$.60  Cold Drink')\n",
    "\n",
    "def myfunc(shopping,total,*prod):\n",
    "    print('You Bought These Items :\\n'+ shopping + \" \" + total)\n",
    "    for item in prod : \n",
    "        print(item)\n",
    "        \n",
    "myfunc('\\nMilk','\\nBanana','Chocolate','Dirnk','Cookies')\n",
    "print('\\nYour  Total Amount Is:$.197\\n')\n",
    "\n",
    "print('                            THANKS FOR SHOPPING COME AGAIN')"
   ]
  },
  {
   "cell_type": "code",
   "execution_count": null,
   "metadata": {},
   "outputs": [],
   "source": []
  }
 ],
 "metadata": {
  "kernelspec": {
   "display_name": "Python 3",
   "language": "python",
   "name": "python3"
  },
  "language_info": {
   "codemirror_mode": {
    "name": "ipython",
    "version": 3
   },
   "file_extension": ".py",
   "mimetype": "text/x-python",
   "name": "python",
   "nbconvert_exporter": "python",
   "pygments_lexer": "ipython3",
   "version": "3.7.4"
  }
 },
 "nbformat": 4,
 "nbformat_minor": 2
}
