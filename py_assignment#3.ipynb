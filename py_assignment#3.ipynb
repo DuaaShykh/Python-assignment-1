{
 "cells": [
  {
   "cell_type": "code",
   "execution_count": 36,
   "metadata": {},
   "outputs": [
    {
     "name": "stdout",
     "output_type": "stream",
     "text": [
      "Enter a number1: 2\n",
      "Enter a number2: 2\n",
      "Enter operator: **\n",
      "4 answer\n"
     ]
    }
   ],
   "source": [
    "x=int(input(\"Enter a number1: \"))\n",
    "y=int(input(\"Enter a number2: \"))\n",
    "operator=input(\"Enter operator: \")\n",
    "if operator=='+':\n",
    "    val=x + y;\n",
    "    print(val,'answer')\n",
    "elif operator=='-':\n",
    "    val=x - y;\n",
    "    print(val,'answer')\n",
    "elif operator=='*':\n",
    "    val=x * y;\n",
    "    print(val,'answer')\n",
    "elif operator=='/':\n",
    "    val=x / y;\n",
    "    print(val,'answer')\n",
    "elif operator=='**':\n",
    "    val=x ** y;\n",
    "    print(val,'answer')"
   ]
  },
  {
   "cell_type": "code",
   "execution_count": 22,
   "metadata": {},
   "outputs": [
    {
     "name": "stdout",
     "output_type": "stream",
     "text": [
      "3022 is a numeric value\n",
      "123 is a numeric value\n"
     ]
    }
   ],
   "source": [
    "check=['duaa','jawad',3022,123]\n",
    "for x in check:\n",
    "    if type(x)==int:\n",
    "        print(x,\"is a numeric value\")\n",
    "    elif type(x)==float:\n",
    "        print(x,\"is a numeric value\")"
   ]
  },
  {
   "cell_type": "code",
   "execution_count": 4,
   "metadata": {},
   "outputs": [
    {
     "name": "stdout",
     "output_type": "stream",
     "text": [
      "{'Duaa': 'Shaikh', 'Sania': 'Zehra'}\n",
      "{'Duaa': 'Shaikh', 'Sania': 'Zehra', 'Narmeen': 'Khan'}\n"
     ]
    }
   ],
   "source": [
    "d = {'Duaa':'Shaikh', 'Sania':'Zehra'}\n",
    "print(d)\n",
    "d.update({'Narmeen':'Khan'})\n",
    "print(d)"
   ]
  },
  {
   "cell_type": "code",
   "execution_count": 25,
   "metadata": {},
   "outputs": [
    {
     "name": "stdout",
     "output_type": "stream",
     "text": [
      "The list is: {'a': 7, 'b': 4, 'c': 3}\n",
      "Total sum is:  14\n"
     ]
    }
   ],
   "source": [
    "list = {'a': 7, 'b':4, 'c':3} \n",
    "print(\"The list is:\",list)\n",
    "tot=sum(list.values())\n",
    "print(\"Total sum is: \",tot)\n"
   ]
  },
  {
   "cell_type": "code",
   "execution_count": 18,
   "metadata": {},
   "outputs": [
    {
     "name": "stdout",
     "output_type": "stream",
     "text": [
      "The duplicate values are:  [1, 2, 3, 4, 5, 9]\n"
     ]
    }
   ],
   "source": [
    "list1 = [1,2,1,3,1,4,1,4,2,5,9]\n",
    "dupl = []\n",
    "for x in list1:\n",
    "    if x not in dupl:\n",
    "        dupl.append(x)\n",
    "print (\"The duplicate values are: \",dupl)"
   ]
  },
  {
   "cell_type": "code",
   "execution_count": 10,
   "metadata": {},
   "outputs": [
    {
     "name": "stdout",
     "output_type": "stream",
     "text": [
      "Enter key: 10\n",
      "Key is not present in the dictionary\n"
     ]
    }
   ],
   "source": [
    "d = {1: 10, 2: 20, 3: 30, 4: 40, 5: 50, 6: 60}\n",
    "x=int(input(\"Enter key: \"))\n",
    "if x in d:\n",
    "    print('Key is present in the dictionary')\n",
    "else:\n",
    "    print('Key is not present in the dictionary')\n"
   ]
  },
  {
   "cell_type": "code",
   "execution_count": null,
   "metadata": {},
   "outputs": [],
   "source": []
  },
  {
   "cell_type": "code",
   "execution_count": null,
   "metadata": {},
   "outputs": [],
   "source": []
  },
  {
   "cell_type": "code",
   "execution_count": null,
   "metadata": {},
   "outputs": [],
   "source": []
  },
  {
   "cell_type": "code",
   "execution_count": null,
   "metadata": {},
   "outputs": [],
   "source": []
  }
 ],
 "metadata": {
  "kernelspec": {
   "display_name": "Python 3",
   "language": "python",
   "name": "python3"
  },
  "language_info": {
   "codemirror_mode": {
    "name": "ipython",
    "version": 3
   },
   "file_extension": ".py",
   "mimetype": "text/x-python",
   "name": "python",
   "nbconvert_exporter": "python",
   "pygments_lexer": "ipython3",
   "version": "3.7.4"
  }
 },
 "nbformat": 4,
 "nbformat_minor": 2
}
