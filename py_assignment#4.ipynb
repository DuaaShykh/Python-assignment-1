{
 "cells": [
  {
   "cell_type": "code",
   "execution_count": 1,
   "metadata": {},
   "outputs": [
    {
     "name": "stdout",
     "output_type": "stream",
     "text": [
      "Part(i): {'First_name': 'Duaa', 'last_name': 'Shaikh', 'Age': '20', 'City': 'Karachi'}\n",
      "Part(ii): {'First_name': 'Duaa', 'last_name': 'Shaikh', 'Age': '20', 'City': 'Karachi', 'Qualification': '12th'}\n",
      "Part(iii): {'First_name': 'Duaa', 'last_name': 'Shaikh', 'Age': '20', 'City': 'Karachi', 'Qualification': 'Engineering'}\n",
      "Part(iv): {'First_name': 'Duaa', 'last_name': 'Shaikh', 'Age': '20', 'City': 'Karachi'}\n"
     ]
    }
   ],
   "source": [
    "#Q1.\n",
    "#part(i):Print values of firstname, lastname, age and city.\n",
    "person = {\n",
    "    \"First_name\": \"Duaa\",\n",
    "    \"last_name\" : \"Shaikh\",\n",
    "     \"Age\":\"20\",\n",
    "     \"City\":\"Karachi\",\n",
    "}\n",
    "print(\"Part(i):\",person)\n",
    "\n",
    "#part(ii):Add qualification in 1st part.\n",
    "person[\"Qualification\"]=\"12th\"\n",
    "print(\"Part(ii):\",person)\n",
    "\n",
    "#part(iii): Apdate qualification value.\n",
    "person[\"Qualification\"]=\"Engineering\"\n",
    "print(\"Part(iii):\",person)\n",
    "\n",
    "#part(iv): delete qualification key and value.\n",
    "del person[\"Qualification\"]\n",
    "print(\"Part(iv):\",person)\n"
   ]
  },
  {
   "cell_type": "code",
   "execution_count": 2,
   "metadata": {},
   "outputs": [
    {
     "name": "stdout",
     "output_type": "stream",
     "text": [
      "{'Islamabad': {'country': 'Pakistan', 'approximate population': '1,095,064 Growth rate 4.91% (2019)', 'fact': 'Islamabad is the capital city of Pakistan'}, 'Berlin': {'country': 'Germany', 'approximate population': '3,556,792 (2019)', 'fact': 'Berlin consumes 70 million curried sausages a year'}, 'Mumbai': {'country': 'India', 'approximate population': '12,967,483 (2019)', 'fact': 'As India’s largest city, Mumbai has 13 million inhabitants'}}\n"
     ]
    }
   ],
   "source": [
    "#Q2.\n",
    "cities = {\n",
    "    \"Islamabad\":{\n",
    "        \"country\":\"Pakistan\",\n",
    "        \"approximate population\": \"1,095,064 Growth rate 4.91% (2019)\",\n",
    "        \"fact\":\"Islamabad is the capital city of Pakistan\"\n",
    "    },\n",
    "    \"Berlin\":{\n",
    "        \"country\":\"Germany\",\n",
    "        \"approximate population\": \"3,556,792 (2019)\",\n",
    "        \"fact\":\"Berlin consumes 70 million curried sausages a year\"\n",
    "        },\n",
    "    \"Mumbai\":{\n",
    "        \"country\":\"India\",\n",
    "        \"approximate population\": \"12,967,483 (2019)\",\n",
    "        \"fact\":\"As India’s largest city, Mumbai has 13 million inhabitants\"\n",
    "        }\n",
    "}\n",
    "print(cities)"
   ]
  },
  {
   "cell_type": "code",
   "execution_count": 3,
   "metadata": {},
   "outputs": [
    {
     "name": "stdout",
     "output_type": "stream",
     "text": [
      "Welcome to Cineplex cinema theater\n",
      "Enter The Number Of Person :3\n",
      "Enter the age of person :3\n",
      "Your ticket is free have fun\n",
      "Enter the age of person :6\n",
      "Your ticket fee is $10\n",
      "Enter the age of person :14\n",
      "Your ticket price  will be $15\n",
      "Total Ammount =  25 $ Enjoy your movie\n"
     ]
    }
   ],
   "source": [
    "#Q3.\n",
    "print(\"Welcome to Cineplex cinema theater\")\n",
    "persons = int(input(\"Enter The Number Of Person :\"))\n",
    "\n",
    "total_price = 0 \n",
    "\n",
    "for i in range(1,persons + 1):\n",
    "    age = int(input(\"Enter the age of person :\"))\n",
    "    if age <= 3:\n",
    "        print(\"Your ticket is free have fun\")\n",
    "    elif age <= 12 :\n",
    "        print(\"Your ticket fee is $10\")\n",
    "        total_price += 10\n",
    "    else: \n",
    "        print(\"Your ticket price  will be $15\")\n",
    "        total_price += 15\n",
    "        \n",
    "        print(\"Total Ammount = \",total_price,\"$ Enjoy your movie\")"
   ]
  },
  {
   "cell_type": "code",
   "execution_count": 4,
   "metadata": {},
   "outputs": [
    {
     "name": "stdout",
     "output_type": "stream",
     "text": [
      "mybookname:  One of my Favourtie book is Alice in wonderland\n"
     ]
    }
   ],
   "source": [
    "#Q4.\n",
    "def favorite_book(title,message):\n",
    "    complete_name = title + \" \" + message\n",
    "    print(complete_name)\n",
    "    \n",
    "favorite_book(title = \"mybookname: \", message = \"One of my Favourtie book is Alice in wonderland\")"
   ]
  },
  {
   "cell_type": "code",
   "execution_count": 8,
   "metadata": {},
   "outputs": [
    {
     "name": "stdout",
     "output_type": "stream",
     "text": [
      "Guess a Number6\n",
      "Too Low\n",
      "Guess a Number9\n",
      "Too High\n",
      "Guess a Number8\n",
      "You Got It The Correct Number\n",
      "Number Of Tries: 3\n"
     ]
    }
   ],
   "source": [
    "#Q5.\n",
    "import random \n",
    "secret = random.randint(1,30)\n",
    "\n",
    "guess = 0\n",
    "tries = 0\n",
    "\n",
    "while guess != secret:\n",
    "    guess = int(input(\"Guess a Number\"))\n",
    "    tries = tries + 1\n",
    "    if guess > secret:\n",
    "        print(\"Too High\")\n",
    "    elif guess < secret :\n",
    "        print(\"Too Low\")\n",
    "    else :\n",
    "        print (\"You Got It The Correct Number\")\n",
    "        \n",
    "print(\"Number Of Tries:\",tries)\n"
   ]
  },
  {
   "cell_type": "code",
   "execution_count": null,
   "metadata": {},
   "outputs": [],
   "source": []
  }
 ],
 "metadata": {
  "kernelspec": {
   "display_name": "Python 3",
   "language": "python",
   "name": "python3"
  },
  "language_info": {
   "codemirror_mode": {
    "name": "ipython",
    "version": 3
   },
   "file_extension": ".py",
   "mimetype": "text/x-python",
   "name": "python",
   "nbconvert_exporter": "python",
   "pygments_lexer": "ipython3",
   "version": "3.7.4"
  }
 },
 "nbformat": 4,
 "nbformat_minor": 2
}
