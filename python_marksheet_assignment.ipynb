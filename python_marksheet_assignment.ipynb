{
 "cells": [
  {
   "cell_type": "code",
   "execution_count": 3,
   "metadata": {},
   "outputs": [
    {
     "name": "stdout",
     "output_type": "stream",
     "text": [
      "Enter your percentage: 40\n",
      "D\n"
     ]
    }
   ],
   "source": [
    "per=int(input(\"Enter your percentage: \"))\n",
    "if per>=80 and per<=100:\n",
    "    print(\"A+\")\n",
    "elif per>=70 and per<80 :\n",
    "    print(\"A\")\n",
    "elif per>=60 and per<70 :\n",
    "    print(\"B\")\n",
    "elif per>=50 and per<60 :\n",
    "    print(\"C\")\n",
    "elif per>=40 and per<50 :\n",
    "    print(\"D\")\n",
    "elif per>=30 and per<40 :\n",
    "    print(\"E\")\n",
    "else :\n",
    "    print(\"You entered invalid marks\")"
   ]
  },
  {
   "cell_type": "code",
   "execution_count": 4,
   "metadata": {},
   "outputs": [
    {
     "name": "stdout",
     "output_type": "stream",
     "text": [
      "Enter your percentage: 70\n",
      "A\n"
     ]
    }
   ],
   "source": [
    "per=int(input(\"Enter your percentage: \"))\n",
    "if per>=80 and per<=100:\n",
    "    print(\"A+\")\n",
    "elif per>=70 and per<80 :\n",
    "    print(\"A\")\n",
    "elif per>=60 and per<70 :\n",
    "    print(\"B\")\n",
    "elif per>=50 and per<60 :\n",
    "    print(\"C\")\n",
    "elif per>=40 and per<50 :\n",
    "    print(\"D\")\n",
    "elif per>=30 and per<40 :\n",
    "    print(\"E\")\n",
    "else :\n",
    "    print(\"You entered invalid marks\")"
   ]
  },
  {
   "cell_type": "code",
   "execution_count": 5,
   "metadata": {},
   "outputs": [
    {
     "name": "stdout",
     "output_type": "stream",
     "text": [
      "Enter your percentage: 20\n",
      "You entered invalid marks\n"
     ]
    }
   ],
   "source": [
    "per=int(input(\"Enter your percentage: \"))\n",
    "if per>=80 and per<=100:\n",
    "    print(\"A+\")\n",
    "elif per>=70 and per<80 :\n",
    "    print(\"A\")\n",
    "elif per>=60 and per<70 :\n",
    "    print(\"B\")\n",
    "elif per>=50 and per<60 :\n",
    "    print(\"C\")\n",
    "elif per>=40 and per<50 :\n",
    "    print(\"D\")\n",
    "elif per>=30 and per<40 :\n",
    "    print(\"E\")\n",
    "else :\n",
    "    print(\"You entered invalid marks\")"
   ]
  },
  {
   "cell_type": "code",
   "execution_count": 6,
   "metadata": {},
   "outputs": [
    {
     "name": "stdout",
     "output_type": "stream",
     "text": [
      "Enter your percentage: 85\n",
      "A+\n"
     ]
    }
   ],
   "source": [
    "per=int(input(\"Enter your percentage: \"))\n",
    "if per>=80 and per<=100:\n",
    "    print(\"A+\")\n",
    "elif per>=70 and per<80 :\n",
    "    print(\"A\")\n",
    "elif per>=60 and per<70 :\n",
    "    print(\"B\")\n",
    "elif per>=50 and per<60 :\n",
    "    print(\"C\")\n",
    "elif per>=40 and per<50 :\n",
    "    print(\"D\")\n",
    "elif per>=30 and per<40 :\n",
    "    print(\"E\")\n",
    "else :\n",
    "    print(\"You entered invalid marks\")"
   ]
  },
  {
   "cell_type": "code",
   "execution_count": null,
   "metadata": {},
   "outputs": [],
   "source": []
  }
 ],
 "metadata": {
  "kernelspec": {
   "display_name": "Python 3",
   "language": "python",
   "name": "python3"
  },
  "language_info": {
   "codemirror_mode": {
    "name": "ipython",
    "version": 3
   },
   "file_extension": ".py",
   "mimetype": "text/x-python",
   "name": "python",
   "nbconvert_exporter": "python",
   "pygments_lexer": "ipython3",
   "version": "3.7.4"
  }
 },
 "nbformat": 4,
 "nbformat_minor": 2
}
