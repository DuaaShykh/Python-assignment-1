{
 "cells": [
  {
   "cell_type": "code",
   "execution_count": 3,
   "metadata": {},
   "outputs": [
    {
     "name": "stdout",
     "output_type": "stream",
     "text": [
      "Enter your marks of  first subject: 80\n",
      "Enter your marks of  second subject: 90\n",
      "Enter your marks of  third subject: 100\n",
      "Enter your marks of  fourth subject: 60\n",
      "Enter your marks of  fifth subject: 75\n",
      "A+\n"
     ]
    }
   ],
   "source": [
    "Sub1=int(input(\"Enter your marks of  first subject: \"))\n",
    "Sub2=int(input(\"Enter your marks of  second subject: \"))\n",
    "Sub3=int(input(\"Enter your marks of  third subject: \"))\n",
    "Sub4=int(input(\"Enter your marks of  fourth subject: \"))\n",
    "Sub5=int(input(\"Enter your marks of  fifth subject: \"))\n",
    "per=(Sub1+Sub2+Sub3+Sub4+Sub5)/5;\n",
    "if per>=80 and per<=100:\n",
    "    print(\"A+\")\n",
    "elif per>=70 and per<80 :\n",
    "    print(\"A\")\n",
    "elif per>=60 and per<70 :\n",
    "    print(\"B\")\n",
    "elif per>=50 and per<60 :\n",
    "    print(\"C\")\n",
    "elif per>=40 and per<50 :\n",
    "    print(\"D\")\n",
    "elif per>=30 and per<40 :\n",
    "    print(\"E\")\n",
    "else :\n",
    "    print(\"You entered invalid marks\")"
   ]
  },
  {
   "cell_type": "code",
   "execution_count": 10,
   "metadata": {},
   "outputs": [
    {
     "name": "stdout",
     "output_type": "stream",
     "text": [
      "Enter a number: 48\n",
      "It is Even num\n"
     ]
    }
   ],
   "source": [
    "num=int(input(\"Enter a number: \"))\n",
    "if (num%2)==0:\n",
    "    print(\"It is Even num\")\n",
    "else:\n",
    "    print(\"It is odd num\")"
   ]
  },
  {
   "cell_type": "code",
   "execution_count": 13,
   "metadata": {},
   "outputs": [
    {
     "name": "stdout",
     "output_type": "stream",
     "text": [
      "The length of the list is:  6\n"
     ]
    }
   ],
   "source": [
    "list=[32,67,90,5,4,67]\n",
    "print(\"The length of the list is: \",len(list));"
   ]
  },
  {
   "cell_type": "code",
   "execution_count": 28,
   "metadata": {},
   "outputs": [
    {
     "name": "stdout",
     "output_type": "stream",
     "text": [
      "The sum of list is : 248\n"
     ]
    }
   ],
   "source": [
    "list=[34,56,12,56,90]\n",
    "print(\"The sum of list is :\",sum(list))"
   ]
  },
  {
   "cell_type": "code",
   "execution_count": 29,
   "metadata": {},
   "outputs": [
    {
     "name": "stdout",
     "output_type": "stream",
     "text": [
      "The max number of list is : 403\n"
     ]
    }
   ],
   "source": [
    "list=[2,65,403,23,67]\n",
    "print(\"The max number of list is :\",max(list))"
   ]
  },
  {
   "cell_type": "code",
   "execution_count": 45,
   "metadata": {},
   "outputs": [
    {
     "name": "stdout",
     "output_type": "stream",
     "text": [
      "1\n",
      "1\n",
      "2\n",
      "3\n"
     ]
    }
   ],
   "source": [
    "a = [1, 1, 2, 3, 5, 8, 13, 21, 34, 55, 89]\n",
    "\n",
    "for i in a:\n",
    "\n",
    "    if i < 5:\n",
    "\n",
    "        print(i)"
   ]
  },
  {
   "cell_type": "code",
   "execution_count": null,
   "metadata": {},
   "outputs": [],
   "source": []
  },
  {
   "cell_type": "code",
   "execution_count": null,
   "metadata": {},
   "outputs": [],
   "source": []
  }
 ],
 "metadata": {
  "kernelspec": {
   "display_name": "Python 3",
   "language": "python",
   "name": "python3"
  },
  "language_info": {
   "codemirror_mode": {
    "name": "ipython",
    "version": 3
   },
   "file_extension": ".py",
   "mimetype": "text/x-python",
   "name": "python",
   "nbconvert_exporter": "python",
   "pygments_lexer": "ipython3",
   "version": "3.7.4"
  }
 },
 "nbformat": 4,
 "nbformat_minor": 2
}
